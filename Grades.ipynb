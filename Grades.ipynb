{
  "nbformat": 4,
  "nbformat_minor": 0,
  "metadata": {
    "colab": {
      "provenance": []
    },
    "kernelspec": {
      "name": "python3",
      "display_name": "Python 3"
    },
    "language_info": {
      "name": "python"
    }
  },
  "cells": [
    {
      "cell_type": "markdown",
      "source": [
        "# Machie Learning, Predict grades\n",
        "\n",
        "I'm stusyng machine learning, so this is my frist poject, it may have some bugs, if you find some please tell me for I improve my skills ;)\n",
        "\n",
        "[my github](github.com/thlagocruz)"
      ],
      "metadata": {
        "id": "xL7ltb0go2mg"
      }
    },
    {
      "cell_type": "markdown",
      "source": [
        "# Downloading libs"
      ],
      "metadata": {
        "id": "K4csKLa_iXYX"
      }
    },
    {
      "cell_type": "code",
      "execution_count": 1,
      "metadata": {
        "colab": {
          "base_uri": "https://localhost:8080/"
        },
        "id": "JS8RBbNOiJ23",
        "outputId": "3118a6d5-3e1d-4e00-cdfe-bd28a5b74347"
      },
      "outputs": [
        {
          "output_type": "stream",
          "name": "stdout",
          "text": [
            "Requirement already satisfied: numpy in /usr/local/lib/python3.11/dist-packages (1.26.4)\n",
            "Requirement already satisfied: pandas in /usr/local/lib/python3.11/dist-packages (2.2.2)\n",
            "Requirement already satisfied: pip in /usr/local/lib/python3.11/dist-packages (24.1.2)\n",
            "\u001b[31mERROR: Could not find a version that satisfies the requirement install (from versions: none)\u001b[0m\u001b[31m\n",
            "\u001b[0m\u001b[31mERROR: No matching distribution found for install\u001b[0m\u001b[31m\n",
            "\u001b[0m"
          ]
        }
      ],
      "source": [
        "!pip install numpy pandas pip install torch matplotlib"
      ]
    },
    {
      "cell_type": "markdown",
      "source": [
        "# Importing libs"
      ],
      "metadata": {
        "id": "gjcREG1niifF"
      }
    },
    {
      "cell_type": "code",
      "source": [
        "import torch\n",
        "import torch.nn as nn\n",
        "import numpy as np\n",
        "import pandas as pd\n",
        "from sklearn.model_selection import train_test_split\n",
        "from sklearn.preprocessing import StandardScaler"
      ],
      "metadata": {
        "id": "zocD5QGKikyJ"
      },
      "execution_count": 2,
      "outputs": []
    },
    {
      "cell_type": "markdown",
      "source": [
        "# Datas"
      ],
      "metadata": {
        "id": "J3rPiUK1i-bX"
      }
    },
    {
      "cell_type": "code",
      "source": [
        "data = {\n",
        "    'Math': [8, 9, 5, 7, 10],\n",
        "    'Science': [7, 6, 5, 8, 9],\n",
        "    'History': [6, 8, 5, 6, 9],\n",
        "    'final_mark': [7.0, 8.0, 5.0, 7.0, 9.5]\n",
        "}"
      ],
      "metadata": {
        "id": "NfffzM_wjDyJ"
      },
      "execution_count": 3,
      "outputs": []
    },
    {
      "cell_type": "markdown",
      "source": [
        "# Converting to a Data frama"
      ],
      "metadata": {
        "id": "I_Bc_DdrjbS4"
      }
    },
    {
      "cell_type": "code",
      "source": [
        "df = pd.DataFrame(data)"
      ],
      "metadata": {
        "id": "fnZ3nj2fje_1"
      },
      "execution_count": 4,
      "outputs": []
    },
    {
      "cell_type": "markdown",
      "source": [
        "# Separating the independent (X) and dependent (y) variables"
      ],
      "metadata": {
        "id": "JjutJvNtjldI"
      }
    },
    {
      "cell_type": "code",
      "source": [
        "x = df[['Math', 'Science', 'History']].values\n",
        "y = df['final_mark'].values"
      ],
      "metadata": {
        "id": "atD6ZfybjsFH"
      },
      "execution_count": 8,
      "outputs": []
    },
    {
      "cell_type": "markdown",
      "source": [
        "# Converting do pytorch tensores"
      ],
      "metadata": {
        "id": "qL_ExbcCkA_A"
      }
    },
    {
      "cell_type": "code",
      "source": [
        "x = torch.tensor(x, dtype=torch.float32)\n",
        "y = torch.tensor(y, dtype=torch.float32).view(-1, 1)"
      ],
      "metadata": {
        "colab": {
          "base_uri": "https://localhost:8080/"
        },
        "id": "5f9nD3SJkFgx",
        "outputId": "9a2239d5-c458-4f26-fcce-ab6568c482c9"
      },
      "execution_count": 10,
      "outputs": [
        {
          "output_type": "stream",
          "name": "stderr",
          "text": [
            "<ipython-input-10-9fd282a7ae9d>:1: UserWarning: To copy construct from a tensor, it is recommended to use sourceTensor.clone().detach() or sourceTensor.clone().detach().requires_grad_(True), rather than torch.tensor(sourceTensor).\n",
            "  x = torch.tensor(x, dtype=torch.float32)\n"
          ]
        }
      ]
    },
    {
      "cell_type": "markdown",
      "source": [
        "\n",
        "# Splitting data into training and testing"
      ],
      "metadata": {
        "id": "USx6l2BJkQFT"
      }
    },
    {
      "cell_type": "code",
      "source": [
        "X_train, X_test, Y_train, Y_test = train_test_split(x, y, test_size=0.2, random_state=42)"
      ],
      "metadata": {
        "id": "vtscKWoKkRr-"
      },
      "execution_count": 11,
      "outputs": []
    },
    {
      "cell_type": "markdown",
      "source": [
        "# Defining the Linear Regression model"
      ],
      "metadata": {
        "id": "AqZRmQIrkgAo"
      }
    },
    {
      "cell_type": "code",
      "source": [
        "class LinearRegression(nn.Module):\n",
        "  def __init__(self):\n",
        "    super(LinearRegression, self).__init__()\n",
        "    self.linear = nn.Linear(3, 1)\n",
        "\n",
        "  def forward(self, x):\n",
        "    return self.linear(x)"
      ],
      "metadata": {
        "id": "ye56bS6RkhT_"
      },
      "execution_count": 12,
      "outputs": []
    },
    {
      "cell_type": "markdown",
      "source": [
        "# Creating a model instance"
      ],
      "metadata": {
        "id": "r1H99un_ksGj"
      }
    },
    {
      "cell_type": "code",
      "source": [
        "model = LinearRegression()"
      ],
      "metadata": {
        "id": "-WRqTteNkuKn"
      },
      "execution_count": 13,
      "outputs": []
    },
    {
      "cell_type": "markdown",
      "source": [
        "# Defining the criteria (Cost Function) and the optimized"
      ],
      "metadata": {
        "id": "-u9lUgc-k2mc"
      }
    },
    {
      "cell_type": "code",
      "source": [
        "Criterion = nn.MSELoss()\n",
        "Optmizer = torch.optim.SGD(model.parameters(), lr=0.01)"
      ],
      "metadata": {
        "id": "E_AJTJiJk2L8"
      },
      "execution_count": 14,
      "outputs": []
    },
    {
      "cell_type": "markdown",
      "source": [
        "# Training the model"
      ],
      "metadata": {
        "id": "NwxbgonjlAhJ"
      }
    },
    {
      "cell_type": "code",
      "source": [
        "epchos = 1000\n",
        "\n",
        "for epoch in range (epchos):\n",
        "  Y_pred = model(X_train)\n",
        "  loss = Criterion(Y_pred, Y_train)\n",
        "\n",
        "  # Backward\n",
        "  Optmizer.zero_grad() # Zera o gradiente\n",
        "  loss.backward() # Calcula o gradiente\n",
        "  Optmizer.step() # Atualiza os pesos do modelo\n",
        "  #ignore my comments I'll use this code for study later ;)\n",
        "\n",
        "  if epoch % 100 == 0:  # A cada 100 épocas, exibe a perda\n",
        "        print(f\"Epoch {epoch+1}/{epchos}, Loss: {loss.item():.4f}\") # Mudou epochs para epchos"
      ],
      "metadata": {
        "colab": {
          "base_uri": "https://localhost:8080/"
        },
        "id": "nSS66-UFlEO4",
        "outputId": "e37800b4-2c36-40aa-cb4c-e3189445e145"
      },
      "execution_count": 18,
      "outputs": [
        {
          "output_type": "stream",
          "name": "stdout",
          "text": [
            "Epoch 1/1000, Loss: 30.2430\n",
            "Epoch 101/1000, Loss: inf\n",
            "Epoch 201/1000, Loss: nan\n",
            "Epoch 301/1000, Loss: nan\n",
            "Epoch 401/1000, Loss: nan\n",
            "Epoch 501/1000, Loss: nan\n",
            "Epoch 601/1000, Loss: nan\n",
            "Epoch 701/1000, Loss: nan\n",
            "Epoch 801/1000, Loss: nan\n",
            "Epoch 901/1000, Loss: nan\n"
          ]
        }
      ]
    },
    {
      "cell_type": "markdown",
      "source": [
        "# Testing the model!\n",
        "\n"
      ],
      "metadata": {
        "id": "JWcbq6iSlsDc"
      }
    },
    {
      "cell_type": "code",
      "source": [
        "with torch.no_grad():\n",
        "  y_pred = model(X_test)"
      ],
      "metadata": {
        "id": "2a8KuSFyl4eL"
      },
      "execution_count": 19,
      "outputs": []
    },
    {
      "cell_type": "markdown",
      "source": [
        "Results!"
      ],
      "metadata": {
        "id": "mPUK7tJnl-cB"
      }
    },
    {
      "cell_type": "code",
      "source": [
        "print(f\"Previews: {X_test}\")\n",
        "print(f\"Real notes: {y_pred}\")"
      ],
      "metadata": {
        "colab": {
          "base_uri": "https://localhost:8080/"
        },
        "id": "jCI7LBB6l_jo",
        "outputId": "c5395363-22e9-4bbe-d853-f2877df50800"
      },
      "execution_count": 21,
      "outputs": [
        {
          "output_type": "stream",
          "name": "stdout",
          "text": [
            "Previews: tensor([[9., 6., 8.]])\n",
            "Real notes: tensor([[nan]])\n"
          ]
        }
      ]
    }
  ]
}
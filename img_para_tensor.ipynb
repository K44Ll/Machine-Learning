{
  "nbformat": 4,
  "nbformat_minor": 0,
  "metadata": {
    "colab": {
      "provenance": [],
      "authorship_tag": "ABX9TyOY7WWPtDbUHFCdk6DFArGz",
      "include_colab_link": true
    },
    "kernelspec": {
      "name": "python3",
      "display_name": "Python 3"
    },
    "language_info": {
      "name": "python"
    }
  },
  "cells": [
    {
      "cell_type": "markdown",
      "metadata": {
        "id": "view-in-github",
        "colab_type": "text"
      },
      "source": [
        "<a href=\"https://colab.research.google.com/github/K44Ll/Machine-Learning/blob/master/img_para_tensor.ipynb\" target=\"_parent\"><img src=\"https://colab.research.google.com/assets/colab-badge.svg\" alt=\"Open In Colab\"/></a>"
      ]
    },
    {
      "cell_type": "code",
      "execution_count": 3,
      "metadata": {
        "colab": {
          "base_uri": "https://localhost:8080/"
        },
        "id": "dUcBMTWhyD9W",
        "outputId": "cf46c102-0fcf-41ee-82c3-2395eb4329dd"
      },
      "outputs": [
        {
          "output_type": "stream",
          "name": "stdout",
          "text": [
            "tensor([[[0.3216, 0.3608, 0.3765,  ..., 0.3529, 0.3412, 0.3137],\n",
            "         [0.3647, 0.4039, 0.4157,  ..., 0.3647, 0.3529, 0.3255],\n",
            "         [0.3765, 0.4157, 0.4314,  ..., 0.3333, 0.3176, 0.2902],\n",
            "         ...,\n",
            "         [0.4902, 0.4824, 0.4784,  ..., 0.3373, 0.3333, 0.3294],\n",
            "         [0.4941, 0.4863, 0.4745,  ..., 0.3373, 0.3333, 0.3255],\n",
            "         [0.5059, 0.4902, 0.4706,  ..., 0.3412, 0.3333, 0.3216]],\n",
            "\n",
            "        [[0.2392, 0.2784, 0.2941,  ..., 0.3020, 0.2902, 0.2627],\n",
            "         [0.2824, 0.3216, 0.3333,  ..., 0.3137, 0.3020, 0.2745],\n",
            "         [0.2941, 0.3333, 0.3490,  ..., 0.2824, 0.2667, 0.2392],\n",
            "         ...,\n",
            "         [0.4980, 0.4902, 0.4863,  ..., 0.3373, 0.3333, 0.3294],\n",
            "         [0.5020, 0.4941, 0.4824,  ..., 0.3373, 0.3333, 0.3255],\n",
            "         [0.5137, 0.4980, 0.4784,  ..., 0.3412, 0.3333, 0.3216]],\n",
            "\n",
            "        [[0.2353, 0.2745, 0.2824,  ..., 0.2784, 0.2667, 0.2392],\n",
            "         [0.2784, 0.3176, 0.3216,  ..., 0.2902, 0.2784, 0.2510],\n",
            "         [0.2902, 0.3294, 0.3373,  ..., 0.2588, 0.2431, 0.2157],\n",
            "         ...,\n",
            "         [0.4941, 0.4863, 0.4824,  ..., 0.3373, 0.3333, 0.3294],\n",
            "         [0.4980, 0.4902, 0.4784,  ..., 0.3373, 0.3333, 0.3255],\n",
            "         [0.5098, 0.4941, 0.4745,  ..., 0.3412, 0.3333, 0.3216]]])\n"
          ]
        }
      ],
      "source": [
        "from torchvision import transforms\n",
        "from PIL import Image\n",
        "\n",
        "# Carregar a imagem\n",
        "image = Image.open(\"/content/imagem.jpg\")\n",
        "\n",
        "# Transformação para tensor\n",
        "transform = transforms.ToTensor()\n",
        "tensor_image = transform(image)\n",
        "\n",
        "print(tensor_image.data)  # Exemplo: torch.Size([3, H, W]) para RGB\n"
      ]
    }
  ]
}